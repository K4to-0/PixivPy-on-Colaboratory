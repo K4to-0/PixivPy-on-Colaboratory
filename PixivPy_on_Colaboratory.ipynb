{
  "nbformat": 4,
  "nbformat_minor": 0,
  "metadata": {
    "colab": {
      "name": "PixivPy_on_Colaboratory",
      "provenance": [],
      "collapsed_sections": [],
      "toc_visible": true,
      "authorship_tag": "ABX9TyOa3IiJiDIvMOBEOv3OiPA2",
      "include_colab_link": true
    },
    "kernelspec": {
      "display_name": "Python 3",
      "name": "python3"
    }
  },
  "cells": [
    {
      "cell_type": "markdown",
      "metadata": {
        "id": "view-in-github",
        "colab_type": "text"
      },
      "source": [
        "<a href=\"https://colab.research.google.com/github/K4to-0/PixivPy-on-Colaboratory/blob/main/PixivPy_on_Colaboratory.ipynb\" target=\"_parent\"><img src=\"https://colab.research.google.com/assets/colab-badge.svg\" alt=\"Open In Colab\"/></a>"
      ]
    },
    {
      "cell_type": "markdown",
      "metadata": {
        "id": "ZDKiysLo_6Qs"
      },
      "source": [
        "# **PixivPy on Colaboratory**\n",
        "Pythonで動作するPixivAPIである、[PixivPy](https://github.com/upbit/pixivpy)をColaboratory上で実行可能にしたものです<br>\n",
        "このコードの実行により、指定タグのある程度人気な作品をプレビュー表示させることができます<br><br>\n",
        "[セルの実行方法など、Colaboratoryの基本的な使い方](https://pyhoo.jp/google-colaboratory-manual#:~:text=%E3%81%8C%E3%81%A7%E3%81%8D%E3%81%BE%E3%81%99%E3%80%82-,Google%20Colab%E3%81%AE%E3%82%BB%E3%83%AB%E3%81%AE%E5%AE%9F%E8%A1%8C%E6%96%B9%E6%B3%95%EF%BC%88shift%2Benter%EF%BC%89,%E3%81%99%E3%82%8B%E3%81%93%E3%81%A8%E3%82%82%E5%8F%AF%E8%83%BD%E3%81%A7%E3%81%99%E3%80%82)\n",
        "<br><br>\n",
        "※R18の指定ですが、\"all\"を指定した場合(A)が、\"on\"を指定した場合(R)がフォルダ名の後に付きます\n"
      ]
    },
    {
      "cell_type": "markdown",
      "metadata": {
        "id": "7HzHo-JruORE"
      },
      "source": [
        "#### まずはこれを脳死で実行しよう"
      ]
    },
    {
      "cell_type": "code",
      "metadata": {
        "id": "sTyMrZhZmmOP"
      },
      "source": [
        "!pip install pixivpy\n",
        "!rm -rf sample_data"
      ],
      "execution_count": null,
      "outputs": []
    },
    {
      "cell_type": "markdown",
      "metadata": {
        "id": "Z9zC_LdiAiY8"
      },
      "source": [
        "#### これも脳死で実行しよう"
      ]
    },
    {
      "cell_type": "code",
      "metadata": {
        "id": "4jGDcPQLpLWC"
      },
      "source": [
        "#--------さわるな危険--------\n",
        "\n",
        "from pixivpy3 import PixivAPI\n",
        "from pixivpy3 import AppPixivAPI\n",
        "import json\n",
        "import os\n",
        "from time import sleep\n",
        "import matplotlib.pyplot as plt\n",
        "from google.colab.patches import cv2_imshow\n",
        "import cv2\n",
        "import math\n",
        "\n",
        "def login(id, password):\n",
        "  api = PixivAPI()\n",
        "  api.login(id, password)\n",
        "  return api\n",
        "\n",
        "def binary_search(apilogin, range_num):\n",
        "  api = apilogin\n",
        "  aapi = AppPixivAPI()\n",
        "\n",
        "  head = 1\n",
        "  tail = range_num\n",
        "  while head <= tail:\n",
        "    errorcount = 0\n",
        "    target = (head + tail) // 2\n",
        "    for i in range(2):\n",
        "      json_result = api.search_works(searchtag, page=target+i, mode='tag')\n",
        "      try:\n",
        "        illust_len = len(json_result.response)\n",
        "      except TypeError as e:\n",
        "        errorcount = errorcount + 1\n",
        "      sleep(0.2)\n",
        "    if errorcount == 1:\n",
        "      return target\n",
        "    elif errorcount == 0:\n",
        "      head = target + 1\n",
        "    else:\n",
        "      tail = target - 1\n",
        "\n",
        "def clearLabel(_ax):\n",
        "  _ax.tick_params(labelbottom=\"off\",bottom=\"off\")\n",
        "  _ax.tick_params(labelleft=\"off\",left=\"off\")\n",
        "  _ax.set_xticklabels([]) \n",
        "  _ax.axis('off')\n",
        "  return _ax\n",
        "\n",
        "def binary_check(apilogin,range_num):\n",
        "  api = apilogin\n",
        "  aapi = AppPixivAPI()\n",
        "\n",
        "  json_result = api.search_works(searchtag, page=range_num, mode='tag')\n",
        "  try:\n",
        "    illust_len = len(json_result.response)\n",
        "  except TypeError as e:\n",
        "    binary_num = binary_search(apilogin,range_num)\n",
        "    if binary_num < range_num:\n",
        "      range_num = binary_num\n",
        "  return range_num\n",
        "\n",
        "def search_and_save(apilogin, searchtag, min_score, range_num, dirname, R18mode):\n",
        "  api = apilogin\n",
        "  aapi = AppPixivAPI()\n",
        "  saving_dir_path = os.path.join(\"/content/\", dirname)\n",
        "  if not os.path.exists(saving_dir_path):\n",
        "    os.mkdir(saving_dir_path)\n",
        "\n",
        "  illsut_hitsum = 0\n",
        "  illsut_sum = 0\n",
        "  for page in range(1, range_num + 1):\n",
        "    json_result = api.search_works(searchtag, page=page, mode='tag')\n",
        "    illust_len = len(json_result.response)\n",
        "\n",
        "    illsut_sum = illsut_sum + illust_len\n",
        "    illust_hit = 0\n",
        "\n",
        "    progress = int(page / range_num * 20)\n",
        "    progressbar = \"[\"\n",
        "    for i in range(progress):\n",
        "      progressbar = progressbar + \"*\"\n",
        "    for i in range(20-progress):\n",
        "      progressbar = progressbar + \"-\"\n",
        "    progressbar = progressbar + \"]\"\n",
        "    print('\\r' + \"page: \" + str(page) + \" / \" + str(range_num) + \" \" + str(progressbar), end = '')\n",
        "\n",
        "    for i in range(0, illust_len):\n",
        "      illust = json_result.response[i]\n",
        "      score = illust.stats.score\n",
        "\n",
        "      if score <= min_score:\n",
        "        continue\n",
        "      else:\n",
        "        flag = 0\n",
        "        for j in range(0,len(illust.tags)):\n",
        "          if illust.tags[j] == \"R-18\":\n",
        "            flag = 1\n",
        "        if flag == 1 and R18mode == \"off\":\n",
        "          continue \n",
        "        if flag == 0 and R18mode == \"on\":\n",
        "          continue\n",
        "        illust_hit = illust_hit + 1\n",
        "        aapi.download(illust.image_urls.px_480mw, path=saving_dir_path)\n",
        "        sleep(1)\n",
        "    illsut_hitsum = illsut_hitsum + illust_hit\n",
        "  print('\\n' + \"完了! \" + str(illsut_hitsum) + \" / \" + str(illsut_sum) + \"件を取得しました！\")\n",
        "\n",
        "def gifdelete(dirname):\n",
        "  path = \"/content/\" + dirname\n",
        "\n",
        "  files = os.listdir(path)\n",
        "  files_file = [f for f in files if os.path.isfile(os.path.join(path, f))]\n",
        "\n",
        "  kakuchoushi = [\" \"] * (len(files_file))\n",
        "\n",
        "  for i in range(len(files_file)):\n",
        "    kakuchoushi[i] = files_file[i][-4:]\n",
        "    if kakuchoushi[i] == \".gif\":\n",
        "      os.remove(files_file[i])\n",
        "\n",
        "def preview(dirname):\n",
        "  dirname = insertbar(dirname)\n",
        "  gifdelete(dirname)\n",
        "  path = \"/content/\" + dirname\n",
        "\n",
        "  files = os.listdir(path)\n",
        "  files_file = [f for f in files if os.path.isfile(os.path.join(path, f))]\n",
        "\n",
        "  illust_num = [\" \"] * (len(files_file))\n",
        "  illust_name = [\" \"] * (len(files_file))\n",
        "  for i in range(len(files_file)):\n",
        "    illust_num[i]  = \"\"\n",
        "    illust_name[i] = files_file[i][:-4]\n",
        "    \n",
        "    for j in range(len(files_file[i])):\n",
        "      if files_file[i][j] == \"_\":\n",
        "        break\n",
        "      else:\n",
        "        illust_num[i] = illust_num[i] + files_file[i][j]\n",
        "\n",
        "  for i in range(10000):\n",
        "    imgurl = \"\"\n",
        "    fig = plt.figure(dpi=350)\n",
        "    if 5*i > len(files_file)-1:\n",
        "      break\n",
        "    for j in range(5):\n",
        "      imagenow = j +5*i\n",
        "      if imagenow > len(files_file)-1:\n",
        "        continue\n",
        "      imgurl = imgurl + \"    \" + \"https://www.pixiv.net/artworks/\" + illust_num[imagenow]\n",
        "      imgpath = dirname + \"/\" + files_file[imagenow]\n",
        "      img = cv2.imread(imgpath)\n",
        "      img = cv2.cvtColor(img, cv2.COLOR_BGR2RGB)\n",
        "      height = img.shape[0]\n",
        "      width = img.shape[1]\n",
        "      clearLabel(fig.add_subplot(1,5,j+1))\n",
        "      plt.imshow(img)\n",
        "    print(imgurl)\n",
        "    plt.show()  \n",
        "\n",
        "def insertbar(dirname):\n",
        "  listname = list(dirname)\n",
        "  for i in range(len(listname)):\n",
        "    if listname[i] == \" \":\n",
        "      listname[i] = '_'\n",
        "  dirname = \"\"\n",
        "  dirname = \"\".join(listname)\n",
        "  return dirname\n",
        "\n",
        "def generate(searchtag, R18mode, apilogin):\n",
        "  range_num = 666\n",
        "  dirname = searchtag\n",
        "  if R18mode != \"off\":\n",
        "    if R18mode == \"on\":\n",
        "      dirname = dirname + \"(R)\"\n",
        "    else:\n",
        "      dirname = dirname + \"(A)\"\n",
        "\n",
        "  dirname = insertbar(dirname)\n",
        "  binary_num = binary_check(apilogin,range_num)\n",
        "  min_score = max(int((math.log(binary_num,10)**4)*700), 2000)\n",
        "  print(searchtag + \" タグの画像を探索しています…(1ページにつき30枚、最大666ページ)\")\n",
        "  search_and_save(apilogin, searchtag, min_score, binary_num, dirname, R18mode)\n",
        "  print()\n",
        "  preview(dirname)"
      ],
      "execution_count": null,
      "outputs": []
    },
    {
      "cell_type": "markdown",
      "metadata": {
        "id": "HLhA_YHEA7CU"
      },
      "source": [
        "## **フォルダ生成 + プレビュー！**"
      ]
    },
    {
      "cell_type": "code",
      "metadata": {
        "id": "OducyvB61Q-2"
      },
      "source": [
        "searchtag = \"鬼滅の刃\"  #検索タグを入力。半角スペースで分けることで複数タグ検索可能\n",
        "R18mode   = \"off\"   #\"off\"=全年齢のみ \"all\"=両方 \"on\"=R-18のみ\n",
        "apilogin  = login(\"bixiv12345\", \"pixiv12345\")  #login(\"ユーザーネーム\",\"パスワード\")の順で入力\n",
        "\n",
        "generate(searchtag, R18mode, apilogin)"
      ],
      "execution_count": null,
      "outputs": []
    },
    {
      "cell_type": "markdown",
      "metadata": {
        "id": "jicMOPMYPWpF"
      },
      "source": [
        "#### 生成したフォルダリストの確認"
      ]
    },
    {
      "cell_type": "code",
      "metadata": {
        "id": "usJvRyl3PP_n"
      },
      "source": [
        "print(\"生成したフォルダリスト\")\n",
        "print(\"----------------------------------------------------\")\n",
        "!ls"
      ],
      "execution_count": null,
      "outputs": []
    },
    {
      "cell_type": "markdown",
      "metadata": {
        "id": "tJPeG3WXDlwr"
      },
      "source": [
        "## プレビューのみしたいとき"
      ]
    },
    {
      "cell_type": "code",
      "metadata": {
        "id": "bvv9oWC0DHvE"
      },
      "source": [
        "pre_dirname = \"鬼滅の刃\" #ここに見たいタグ名を入力(既に生成したもの限定)\n",
        "preview(pre_dirname)"
      ],
      "execution_count": null,
      "outputs": []
    }
  ]
}